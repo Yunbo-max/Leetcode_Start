{
 "cells": [
  {
   "cell_type": "markdown",
   "metadata": {},
   "source": [
    "### mean and variance, which are kind of point estimation. \n",
    "\n",
    "### Point estimation means using sample data to calculate a single value which is to serve as a 'best estimation' of an unknown population. \n",
    "\n",
    "### However, this it not enough because point estimations can be deceiving. "
   ]
  },
  {
   "cell_type": "code",
   "execution_count": null,
   "metadata": {},
   "outputs": [],
   "source": [
    "mean and variance, which are kind of point estimation. Point estimation means using sample data to calculate a single value which is to serve as a 'best estimation' of an unknown population. "
   ]
  }
 ],
 "metadata": {
  "language_info": {
   "name": "python"
  }
 },
 "nbformat": 4,
 "nbformat_minor": 2
}
